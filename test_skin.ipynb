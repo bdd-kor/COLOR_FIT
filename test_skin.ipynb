{
 "cells": [
  {
   "cell_type": "code",
   "execution_count": 3,
   "metadata": {
    "scrolled": true
   },
   "outputs": [
    {
     "name": "stdout",
     "output_type": "stream",
     "text": [
      "(79.32517434869739, 98.5569258517034, 135.64903006012023, 0.0)\n"
     ]
    }
   ],
   "source": [
    "import numpy as np\n",
    "import cv2\n",
    "from PIL import Image\n",
    "import face_recognition\n",
    "\n",
    "\n",
    "def crop(image):\n",
    "    image = face_recognition.load_image_file(image)\n",
    "    face_locations = face_recognition.face_locations(image)\n",
    "    for face_location in face_locations:\n",
    "        top, right, bottom, left = face_location\n",
    "        face_image = image[top:bottom, left:right]\n",
    "        pil_image = Image.fromarray(face_image)\n",
    "        pil_image.save('image/crop.jpg')\n",
    "\n",
    "        \n",
    "def color(img):\n",
    "    avg = cv2.mean(img)\n",
    "    print(avg)\n",
    "    rec = np.zeros((384, 384,3), np.uint8)\n",
    "    rec = cv2.rectangle(rec, (110, 110), (200, 200), avg, -1)\n",
    "    cv2.imshow('avg', rec)\n",
    "    cv2.imwrite(\"skin_color.jpg\", rec)\n",
    "    cv2.waitKey(0)\n",
    "    cv2.destroyAllWindows()\n",
    "    \n",
    "    \n",
    "def extractSkin(image):\n",
    "    img = image.copy()\n",
    "    img = cv2.cvtColor(img, cv2.COLOR_BGR2HSV)\n",
    "    lower_threshold = np.array([0, 51, 80], dtype=np.uint8)\n",
    "    upper_threshold = np.array([21, 153, 255], dtype=np.uint8)\n",
    "    skinMask = cv2.inRange(img, lower_threshold, upper_threshold)\n",
    "    skinMask = cv2.GaussianBlur(skinMask, (3, 3), 0)\n",
    "    skin = cv2.bitwise_and(img, img, mask=skinMask)\n",
    "    return cv2.cvtColor(skin, cv2.COLOR_HSV2BGR)\n",
    "\n",
    "\n",
    "crop('image/soccer.jpg')\n",
    "image =cv2.imread('image/crop.jpg')\n",
    "image = imutils.resize(image, width=500)\n",
    "skin = extractSkin(image)\n",
    "cv2.imshow('skin', skin)\n",
    "color(skin)"
   ]
  },
  {
   "cell_type": "code",
   "execution_count": null,
   "metadata": {},
   "outputs": [],
   "source": []
  },
  {
   "cell_type": "code",
   "execution_count": null,
   "metadata": {},
   "outputs": [],
   "source": []
  }
 ],
 "metadata": {
  "kernelspec": {
   "display_name": "Python 3",
   "language": "python",
   "name": "python3"
  },
  "language_info": {
   "codemirror_mode": {
    "name": "ipython",
    "version": 3
   },
   "file_extension": ".py",
   "mimetype": "text/x-python",
   "name": "python",
   "nbconvert_exporter": "python",
   "pygments_lexer": "ipython3",
   "version": "3.8.5"
  }
 },
 "nbformat": 4,
 "nbformat_minor": 4
}
