{
 "cells": [
  {
   "cell_type": "code",
   "execution_count": 5,
   "metadata": {
    "scrolled": true
   },
   "outputs": [
    {
     "name": "stdout",
     "output_type": "stream",
     "text": [
      "(62.57402393222116, 68.169447113285, 87.75762075290419, 0.0)\n"
     ]
    }
   ],
   "source": [
    "import numpy as np\n",
    "import cv2\n",
    "from PIL import Image\n",
    "import face_recognition\n",
    "\n",
    "\n",
    "def crop(image):\n",
    "    image = face_recognition.load_image_file(image)\n",
    "    face_locations = face_recognition.face_locations(image)\n",
    "    for face_location in face_locations:\n",
    "        top, right, bottom, left = face_location\n",
    "        face_image = image[top:bottom, left:right]\n",
    "        pil_image = Image.fromarray(face_image)\n",
    "        pil_image.save('image/crop.jpg')\n",
    "\n",
    "        \n",
    "def avg(image):\n",
    "    avg = cv2.mean(image)\n",
    "    print(avg)\n",
    "    rec = np.zeros((500, 500,3), np.uint8)\n",
    "    rec = cv2.rectangle(rec, (0, 0), (500, 500), avg, -1)\n",
    "    cv2.imshow('avg', rec)\n",
    "    cv2.imwrite(\"image/skin_color.jpg\", rec)\n",
    "    cv2.waitKey(0)\n",
    "    cv2.destroyAllWindows()\n",
    "    \n",
    "    \n",
    "def extractSkin(image):\n",
    "    img = image.copy()\n",
    "    img = cv2.cvtColor(img, cv2.COLOR_BGR2HSV)\n",
    "    lower = np.array([0, 51, 80], dtype=np.uint8)\n",
    "    upper = np.array([21, 153, 255], dtype=np.uint8)\n",
    "    skinMask = cv2.inRange(img, lower, upper)\n",
    "    return cv2.bitwise_and(image, image, mask=skinMask)\n",
    "\n",
    "\n",
    "crop('image/chuu.jpg')\n",
    "image =cv2.imread('image/crop.jpg')\n",
    "skin = extractSkin(image)\n",
    "cv2.imshow('skin', skin)\n",
    "avg(skin)"
   ]
  },
  {
   "cell_type": "code",
   "execution_count": null,
   "metadata": {},
   "outputs": [],
   "source": []
  },
  {
   "cell_type": "code",
   "execution_count": null,
   "metadata": {},
   "outputs": [],
   "source": []
  }
 ],
 "metadata": {
  "kernelspec": {
   "display_name": "Python 3",
   "language": "python",
   "name": "python3"
  },
  "language_info": {
   "codemirror_mode": {
    "name": "ipython",
    "version": 3
   },
   "file_extension": ".py",
   "mimetype": "text/x-python",
   "name": "python",
   "nbconvert_exporter": "python",
   "pygments_lexer": "ipython3",
   "version": "3.8.5"
  }
 },
 "nbformat": 4,
 "nbformat_minor": 4
}
